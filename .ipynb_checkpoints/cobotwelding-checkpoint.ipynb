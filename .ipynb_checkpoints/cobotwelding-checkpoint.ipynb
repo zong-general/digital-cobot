{
 "cells": [
  {
   "cell_type": "code",
   "execution_count": 1,
   "metadata": {},
   "outputs": [],
   "source": [
    "import pandas as pd\n",
    "from matplotlib import pyplot as plt\n",
    "\n"
   ]
  },
  {
   "cell_type": "code",
   "execution_count": 4,
   "metadata": {},
   "outputs": [],
   "source": [
    "welding= pd.read_excel('BotX Limited Data with Pivot Table.xlsx','Sheet3')"
   ]
  },
  {
   "cell_type": "code",
   "execution_count": 2,
   "metadata": {},
   "outputs": [],
   "source": [
    "welding= pd.read_excel('BotX Limited Data with Pivot Table.xlsx','Pivot T-Data')"
   ]
  },
  {
   "cell_type": "code",
   "execution_count": 6,
   "metadata": {},
   "outputs": [
    {
     "data": {
      "text/html": [
       "<div>\n",
       "<style scoped>\n",
       "    .dataframe tbody tr th:only-of-type {\n",
       "        vertical-align: middle;\n",
       "    }\n",
       "\n",
       "    .dataframe tbody tr th {\n",
       "        vertical-align: top;\n",
       "    }\n",
       "\n",
       "    .dataframe thead th {\n",
       "        text-align: right;\n",
       "    }\n",
       "</style>\n",
       "<table border=\"1\" class=\"dataframe\">\n",
       "  <thead>\n",
       "    <tr style=\"text-align: right;\">\n",
       "      <th></th>\n",
       "      <th>lastModifiedDate</th>\n",
       "      <th>uuid</th>\n",
       "      <th>machine</th>\n",
       "      <th>definition</th>\n",
       "      <th>gasFlowRate</th>\n",
       "      <th>teachTip</th>\n",
       "      <th>rapidSpeed</th>\n",
       "      <th>numOfPartsMade</th>\n",
       "      <th>arcStartTime</th>\n",
       "      <th>useRapidSpeed</th>\n",
       "      <th>...</th>\n",
       "      <th>approachSpeed</th>\n",
       "      <th>electrodeType</th>\n",
       "      <th>contactTipWorkpieceDistance</th>\n",
       "      <th>wireFeedSpeed</th>\n",
       "      <th>arcLength</th>\n",
       "      <th>travelAngle</th>\n",
       "      <th>voltage</th>\n",
       "      <th>bypassDepart</th>\n",
       "      <th>travelSpeed  mm/sec</th>\n",
       "      <th>travel speed ipm</th>\n",
       "    </tr>\n",
       "  </thead>\n",
       "  <tbody>\n",
       "    <tr>\n",
       "      <th>0</th>\n",
       "      <td>2021-01-17T16:10:35.381Z</td>\n",
       "      <td>deec0989-83ce-46c6-8bd2-e79e5053451c</td>\n",
       "      <td>R-00056</td>\n",
       "      <td>linearWeld</td>\n",
       "      <td>35.0</td>\n",
       "      <td>NaN</td>\n",
       "      <td>100.0</td>\n",
       "      <td>NaN</td>\n",
       "      <td>1.0</td>\n",
       "      <td>0.0</td>\n",
       "      <td>...</td>\n",
       "      <td>250.0</td>\n",
       "      <td>mild_steel</td>\n",
       "      <td>20.0</td>\n",
       "      <td>250.0</td>\n",
       "      <td>50.0</td>\n",
       "      <td>30.0</td>\n",
       "      <td>18.0</td>\n",
       "      <td>0.0</td>\n",
       "      <td>7.0</td>\n",
       "      <td>1.0668</td>\n",
       "    </tr>\n",
       "    <tr>\n",
       "      <th>1</th>\n",
       "      <td>2021-01-17T16:10:35.381Z</td>\n",
       "      <td>deec0989-83ce-46c6-8bd2-e79e5053451c</td>\n",
       "      <td>R-00056</td>\n",
       "      <td>linearWeld</td>\n",
       "      <td>35.0</td>\n",
       "      <td>NaN</td>\n",
       "      <td>100.0</td>\n",
       "      <td>NaN</td>\n",
       "      <td>1.0</td>\n",
       "      <td>0.0</td>\n",
       "      <td>...</td>\n",
       "      <td>250.0</td>\n",
       "      <td>mild_steel</td>\n",
       "      <td>20.0</td>\n",
       "      <td>250.0</td>\n",
       "      <td>50.0</td>\n",
       "      <td>30.0</td>\n",
       "      <td>18.0</td>\n",
       "      <td>0.0</td>\n",
       "      <td>7.0</td>\n",
       "      <td>1.0668</td>\n",
       "    </tr>\n",
       "    <tr>\n",
       "      <th>2</th>\n",
       "      <td>2021-01-17T16:10:36.352Z</td>\n",
       "      <td>45031d49-0318-4f44-abbe-a28d45127549</td>\n",
       "      <td>R-00056</td>\n",
       "      <td>linearWeld</td>\n",
       "      <td>35.0</td>\n",
       "      <td>NaN</td>\n",
       "      <td>100.0</td>\n",
       "      <td>NaN</td>\n",
       "      <td>1.0</td>\n",
       "      <td>0.0</td>\n",
       "      <td>...</td>\n",
       "      <td>250.0</td>\n",
       "      <td>mild_steel</td>\n",
       "      <td>20.0</td>\n",
       "      <td>250.0</td>\n",
       "      <td>50.0</td>\n",
       "      <td>12.0</td>\n",
       "      <td>18.0</td>\n",
       "      <td>NaN</td>\n",
       "      <td>12.0</td>\n",
       "      <td>1.8288</td>\n",
       "    </tr>\n",
       "    <tr>\n",
       "      <th>3</th>\n",
       "      <td>2021-01-17T16:10:36.352Z</td>\n",
       "      <td>45031d49-0318-4f44-abbe-a28d45127549</td>\n",
       "      <td>R-00056</td>\n",
       "      <td>linearWeld</td>\n",
       "      <td>35.0</td>\n",
       "      <td>NaN</td>\n",
       "      <td>100.0</td>\n",
       "      <td>NaN</td>\n",
       "      <td>1.0</td>\n",
       "      <td>0.0</td>\n",
       "      <td>...</td>\n",
       "      <td>250.0</td>\n",
       "      <td>mild_steel</td>\n",
       "      <td>20.0</td>\n",
       "      <td>250.0</td>\n",
       "      <td>21.0</td>\n",
       "      <td>13.0</td>\n",
       "      <td>18.0</td>\n",
       "      <td>NaN</td>\n",
       "      <td>10.0</td>\n",
       "      <td>1.5240</td>\n",
       "    </tr>\n",
       "    <tr>\n",
       "      <th>4</th>\n",
       "      <td>2021-01-17T16:10:36.352Z</td>\n",
       "      <td>45031d49-0318-4f44-abbe-a28d45127549</td>\n",
       "      <td>R-00056</td>\n",
       "      <td>linearWeld</td>\n",
       "      <td>35.0</td>\n",
       "      <td>NaN</td>\n",
       "      <td>100.0</td>\n",
       "      <td>NaN</td>\n",
       "      <td>1.0</td>\n",
       "      <td>0.0</td>\n",
       "      <td>...</td>\n",
       "      <td>250.0</td>\n",
       "      <td>mild_steel</td>\n",
       "      <td>20.0</td>\n",
       "      <td>250.0</td>\n",
       "      <td>21.0</td>\n",
       "      <td>13.0</td>\n",
       "      <td>18.0</td>\n",
       "      <td>NaN</td>\n",
       "      <td>10.0</td>\n",
       "      <td>1.5240</td>\n",
       "    </tr>\n",
       "  </tbody>\n",
       "</table>\n",
       "<p>5 rows × 31 columns</p>\n",
       "</div>"
      ],
      "text/plain": [
       "           lastModifiedDate                                  uuid  machine  \\\n",
       "0  2021-01-17T16:10:35.381Z  deec0989-83ce-46c6-8bd2-e79e5053451c  R-00056   \n",
       "1  2021-01-17T16:10:35.381Z  deec0989-83ce-46c6-8bd2-e79e5053451c  R-00056   \n",
       "2  2021-01-17T16:10:36.352Z  45031d49-0318-4f44-abbe-a28d45127549  R-00056   \n",
       "3  2021-01-17T16:10:36.352Z  45031d49-0318-4f44-abbe-a28d45127549  R-00056   \n",
       "4  2021-01-17T16:10:36.352Z  45031d49-0318-4f44-abbe-a28d45127549  R-00056   \n",
       "\n",
       "   definition  gasFlowRate  teachTip  rapidSpeed  numOfPartsMade  \\\n",
       "0  linearWeld         35.0       NaN       100.0             NaN   \n",
       "1  linearWeld         35.0       NaN       100.0             NaN   \n",
       "2  linearWeld         35.0       NaN       100.0             NaN   \n",
       "3  linearWeld         35.0       NaN       100.0             NaN   \n",
       "4  linearWeld         35.0       NaN       100.0             NaN   \n",
       "\n",
       "   arcStartTime  useRapidSpeed  ...  approachSpeed  electrodeType  \\\n",
       "0           1.0            0.0  ...          250.0     mild_steel   \n",
       "1           1.0            0.0  ...          250.0     mild_steel   \n",
       "2           1.0            0.0  ...          250.0     mild_steel   \n",
       "3           1.0            0.0  ...          250.0     mild_steel   \n",
       "4           1.0            0.0  ...          250.0     mild_steel   \n",
       "\n",
       "   contactTipWorkpieceDistance  wireFeedSpeed  arcLength  travelAngle voltage  \\\n",
       "0                         20.0          250.0       50.0         30.0    18.0   \n",
       "1                         20.0          250.0       50.0         30.0    18.0   \n",
       "2                         20.0          250.0       50.0         12.0    18.0   \n",
       "3                         20.0          250.0       21.0         13.0    18.0   \n",
       "4                         20.0          250.0       21.0         13.0    18.0   \n",
       "\n",
       "  bypassDepart  travelSpeed  mm/sec  travel speed ipm  \n",
       "0          0.0                  7.0            1.0668  \n",
       "1          0.0                  7.0            1.0668  \n",
       "2          NaN                 12.0            1.8288  \n",
       "3          NaN                 10.0            1.5240  \n",
       "4          NaN                 10.0            1.5240  \n",
       "\n",
       "[5 rows x 31 columns]"
      ]
     },
     "execution_count": 6,
     "metadata": {},
     "output_type": "execute_result"
    }
   ],
   "source": [
    "welding.head()\n"
   ]
  },
  {
   "cell_type": "markdown",
   "metadata": {},
   "source": [
    "welding dataset number # Examine the default index, data types, and shape"
   ]
  },
  {
   "cell_type": "code",
   "execution_count": 7,
   "metadata": {},
   "outputs": [
    {
     "data": {
      "text/plain": [
       "RangeIndex(start=0, stop=1048575, step=1)"
      ]
     },
     "execution_count": 7,
     "metadata": {},
     "output_type": "execute_result"
    }
   ],
   "source": [
    "welding.index"
   ]
  },
  {
   "cell_type": "markdown",
   "metadata": {},
   "source": []
  },
  {
   "cell_type": "code",
   "execution_count": 8,
   "metadata": {},
   "outputs": [
    {
     "data": {
      "text/plain": [
       "lastModifiedDate                object\n",
       "uuid                            object\n",
       "machine                         object\n",
       "definition                      object\n",
       "gasFlowRate                    float64\n",
       "teachTip                       float64\n",
       "rapidSpeed                     float64\n",
       "numOfPartsMade                 float64\n",
       "arcStartTime                   float64\n",
       "useRapidSpeed                  float64\n",
       "arcEndTime                     float64\n",
       "useCraterFill                  float64\n",
       "arcOn                          float64\n",
       "bypassApproach                 float64\n",
       "approachAccel                  float64\n",
       "jointType                      float64\n",
       "materialThickness               object\n",
       "migProcess                      object\n",
       "workAngle                      float64\n",
       "stickOut                       float64\n",
       "electrodeDiameter              float64\n",
       "approachSpeed                  float64\n",
       "electrodeType                   object\n",
       "contactTipWorkpieceDistance    float64\n",
       "wireFeedSpeed                  float64\n",
       "arcLength                      float64\n",
       "travelAngle                    float64\n",
       "voltage                        float64\n",
       "bypassDepart                   float64\n",
       "travelSpeed  mm/sec            float64\n",
       "travel speed ipm               float64\n",
       "dtype: object"
      ]
     },
     "execution_count": 8,
     "metadata": {},
     "output_type": "execute_result"
    }
   ],
   "source": [
    "welding.dtypes"
   ]
  },
  {
   "cell_type": "code",
   "execution_count": 9,
   "metadata": {},
   "outputs": [
    {
     "data": {
      "text/plain": [
       "(1048575, 31)"
      ]
     },
     "execution_count": 9,
     "metadata": {},
     "output_type": "execute_result"
    }
   ],
   "source": [
    "welding.shape"
   ]
  },
  {
   "cell_type": "code",
   "execution_count": 10,
   "metadata": {},
   "outputs": [
    {
     "name": "stdout",
     "output_type": "stream",
     "text": [
      "<class 'pandas.core.frame.DataFrame'>\n",
      "RangeIndex: 1048575 entries, 0 to 1048574\n",
      "Data columns (total 31 columns):\n",
      " #   Column                       Non-Null Count    Dtype  \n",
      "---  ------                       --------------    -----  \n",
      " 0   lastModifiedDate             3630 non-null     object \n",
      " 1   uuid                         3630 non-null     object \n",
      " 2   machine                      3630 non-null     object \n",
      " 3   definition                   3630 non-null     object \n",
      " 4   gasFlowRate                  3630 non-null     float64\n",
      " 5   teachTip                     1181 non-null     float64\n",
      " 6   rapidSpeed                   3630 non-null     float64\n",
      " 7   numOfPartsMade               0 non-null        float64\n",
      " 8   arcStartTime                 3630 non-null     float64\n",
      " 9   useRapidSpeed                3630 non-null     float64\n",
      " 10  arcEndTime                   3630 non-null     float64\n",
      " 11  useCraterFill                3630 non-null     float64\n",
      " 12  arcOn                        3630 non-null     float64\n",
      " 13  bypassApproach               3496 non-null     float64\n",
      " 14  approachAccel                3630 non-null     float64\n",
      " 15  jointType                    3628 non-null     float64\n",
      " 16  materialThickness            3630 non-null     object \n",
      " 17  migProcess                   3630 non-null     object \n",
      " 18  workAngle                    3630 non-null     float64\n",
      " 19  stickOut                     3630 non-null     float64\n",
      " 20  electrodeDiameter            3630 non-null     float64\n",
      " 21  approachSpeed                3630 non-null     float64\n",
      " 22  electrodeType                3630 non-null     object \n",
      " 23  contactTipWorkpieceDistance  3629 non-null     float64\n",
      " 24  wireFeedSpeed                3630 non-null     float64\n",
      " 25  arcLength                    3630 non-null     float64\n",
      " 26  travelAngle                  3630 non-null     float64\n",
      " 27  voltage                      3630 non-null     float64\n",
      " 28  bypassDepart                 3496 non-null     float64\n",
      " 29  travelSpeed  mm/sec          3630 non-null     float64\n",
      " 30  travel speed ipm             1048575 non-null  float64\n",
      "dtypes: float64(24), object(7)\n",
      "memory usage: 248.0+ MB\n"
     ]
    }
   ],
   "source": [
    "welding.info()"
   ]
  },
  {
   "cell_type": "code",
   "execution_count": 11,
   "metadata": {},
   "outputs": [
    {
     "data": {
      "text/plain": [
       "35.0    3348\n",
       "40.0     223\n",
       "45.0      57\n",
       "30.0       2\n",
       "Name: gasFlowRate, dtype: int64"
      ]
     },
     "execution_count": 11,
     "metadata": {},
     "output_type": "execute_result"
    }
   ],
   "source": [
    "welding.gasFlowRate.value_counts()"
   ]
  },
  {
   "cell_type": "code",
   "execution_count": 12,
   "metadata": {},
   "outputs": [
    {
     "data": {
      "text/plain": [
       "R-00065    541\n",
       "R-00103    315\n",
       "R-00099    290\n",
       "R-00090    234\n",
       "R-00084    219\n",
       "R-00108    217\n",
       "R-00107    183\n",
       "R-00056    176\n",
       "R-00063    158\n",
       "R-00109    148\n",
       "R-00091    133\n",
       "R-00092    104\n",
       "R-00093     95\n",
       "R-00079     90\n",
       "R-00081     84\n",
       "R-00057     83\n",
       "R-00082     74\n",
       "R-00101     73\n",
       "R-00086     64\n",
       "R-00100     59\n",
       "R-00074     49\n",
       "R-00064     40\n",
       "R-00073     38\n",
       "R-00067     36\n",
       "R-00104     36\n",
       "R-00085     29\n",
       "R-00102     23\n",
       "R-00096     12\n",
       "R-00076     11\n",
       "R-00068      9\n",
       "R-00097      5\n",
       "R-00095      1\n",
       "R-00071      1\n",
       "Name: machine, dtype: int64"
      ]
     },
     "execution_count": 12,
     "metadata": {},
     "output_type": "execute_result"
    }
   ],
   "source": [
    "welding.machine.value_counts()"
   ]
  },
  {
   "cell_type": "code",
   "execution_count": 13,
   "metadata": {},
   "outputs": [
    {
     "data": {
      "text/plain": [
       "linearWeld    3630\n",
       "Name: definition, dtype: int64"
      ]
     },
     "execution_count": 13,
     "metadata": {},
     "output_type": "execute_result"
    }
   ],
   "source": [
    "welding.definition.value_counts()"
   ]
  },
  {
   "cell_type": "code",
   "execution_count": 14,
   "metadata": {},
   "outputs": [
    {
     "data": {
      "text/plain": [
       "<bound method IndexOpsMixin.value_counts of 0          100.0\n",
       "1          100.0\n",
       "2          100.0\n",
       "3          100.0\n",
       "4          100.0\n",
       "           ...  \n",
       "1048570      NaN\n",
       "1048571      NaN\n",
       "1048572      NaN\n",
       "1048573      NaN\n",
       "1048574      NaN\n",
       "Name: rapidSpeed, Length: 1048575, dtype: float64>"
      ]
     },
     "execution_count": 14,
     "metadata": {},
     "output_type": "execute_result"
    }
   ],
   "source": [
    "welding.rapidSpeed.value_counts"
   ]
  },
  {
   "cell_type": "code",
   "execution_count": 15,
   "metadata": {},
   "outputs": [
    {
     "data": {
      "text/plain": [
       "100.000000    2223\n",
       "99.906667      950\n",
       "101.600000     167\n",
       "84.666667      112\n",
       "127.000000      56\n",
       "50.000000       24\n",
       "199.813330      21\n",
       "97.366667       16\n",
       "75.000000       15\n",
       "40.000000       10\n",
       "190.500000       8\n",
       "63.500000        7\n",
       "110.066670       5\n",
       "200.000000       5\n",
       "105.833330       4\n",
       "20.000000        4\n",
       "118.533330       2\n",
       "42.333333        1\n",
       "Name: rapidSpeed, dtype: int64"
      ]
     },
     "execution_count": 15,
     "metadata": {},
     "output_type": "execute_result"
    }
   ],
   "source": [
    "welding.rapidSpeed.value_counts()"
   ]
  },
  {
   "cell_type": "code",
   "execution_count": 16,
   "metadata": {},
   "outputs": [
    {
     "data": {
      "text/plain": [
       "0.25    1063\n",
       "1.00     908\n",
       "0.20     420\n",
       "0.50     253\n",
       "0.10     253\n",
       "0.00     221\n",
       "0.15     156\n",
       "0.30      97\n",
       "0.05      79\n",
       "0.02      38\n",
       "0.11      28\n",
       "0.23      26\n",
       "0.12      16\n",
       "0.35      13\n",
       "0.03       9\n",
       "2.00       7\n",
       "0.75       7\n",
       "0.40       6\n",
       "0.55       6\n",
       "0.80       4\n",
       "0.45       4\n",
       "0.52       3\n",
       "0.16       3\n",
       "0.01       2\n",
       "0.70       1\n",
       "0.06       1\n",
       "0.65       1\n",
       "1.50       1\n",
       "0.90       1\n",
       "0.08       1\n",
       "0.60       1\n",
       "0.14       1\n",
       "Name: arcStartTime, dtype: int64"
      ]
     },
     "execution_count": 16,
     "metadata": {},
     "output_type": "execute_result"
    }
   ],
   "source": [
    "welding.arcStartTime.value_counts()"
   ]
  },
  {
   "cell_type": "code",
   "execution_count": 6,
   "metadata": {},
   "outputs": [
    {
     "data": {
      "text/plain": [
       "1.50    1532\n",
       "0.50     350\n",
       "0.30     321\n",
       "1.00     319\n",
       "0.20     271\n",
       "0.00     211\n",
       "2.00     172\n",
       "0.10     140\n",
       "0.70     122\n",
       "0.40      40\n",
       "0.25      28\n",
       "0.23      26\n",
       "0.80      23\n",
       "0.75      20\n",
       "1.25      16\n",
       "0.05      16\n",
       "3.00       8\n",
       "1.75       4\n",
       "0.97       3\n",
       "0.15       2\n",
       "2.50       2\n",
       "0.60       2\n",
       "1.10       1\n",
       "2.25       1\n",
       "Name: arcEndTime, dtype: int64"
      ]
     },
     "execution_count": 6,
     "metadata": {},
     "output_type": "execute_result"
    }
   ],
   "source": [
    "welding.arcEndTime.value_counts()"
   ]
  },
  {
   "cell_type": "code",
   "execution_count": 4,
   "metadata": {},
   "outputs": [
    {
     "data": {
      "text/plain": [
       "18.00    699\n",
       "26.00    491\n",
       "26.60    248\n",
       "24.00    194\n",
       "16.80    169\n",
       "16.50    122\n",
       "16.00    104\n",
       "19.50    103\n",
       "13.00    100\n",
       "18.50    100\n",
       "15.00     99\n",
       "17.50     94\n",
       "20.00     89\n",
       "28.00     86\n",
       "19.00     79\n",
       "17.00     76\n",
       "21.00     64\n",
       "27.40     55\n",
       "32.00     51\n",
       "30.00     50\n",
       "25.00     49\n",
       "19.20     46\n",
       "19.80     45\n",
       "22.00     40\n",
       "26.20     37\n",
       "21.50     36\n",
       "17.80     35\n",
       "26.50     33\n",
       "29.00     29\n",
       "27.00     28\n",
       "16.30     26\n",
       "18.30     22\n",
       "14.00     16\n",
       "24.50     11\n",
       "15.50      9\n",
       "28.30      8\n",
       "16.20      8\n",
       "16.10      7\n",
       "15.80      7\n",
       "18.60      7\n",
       "18.70      6\n",
       "16.40      5\n",
       "23.00      5\n",
       "25.50      4\n",
       "15.60      4\n",
       "17.60      4\n",
       "17.75      4\n",
       "26.80      4\n",
       "25.20      3\n",
       "27.30      3\n",
       "15.90      3\n",
       "18.20      2\n",
       "20.50      2\n",
       "16.70      2\n",
       "14.50      2\n",
       "27.50      1\n",
       "18.80      1\n",
       "14.70      1\n",
       "26.40      1\n",
       "25.80      1\n",
       "Name: voltage, dtype: int64"
      ]
     },
     "execution_count": 4,
     "metadata": {},
     "output_type": "execute_result"
    }
   ],
   "source": [
    "welding.voltage.value_counts()"
   ]
  },
  {
   "cell_type": "code",
   "execution_count": 6,
   "metadata": {},
   "outputs": [
    {
     "data": {
      "image/png": "[encoded data removed]",
      "text/plain": [
       "<Figure size 432x288 with 1 Axes>"
      ]
     },
     "metadata": {
      "needs_background": "light"
     },
     "output_type": "display_data"
    }
   ],
   "source": [
    "show_voltage=welding.voltage.plot(kind='hist', bins=50);\n",
    "show_voltage.set_title('Distribution of Voltage');"
   ]
  },
  {
   "cell_type": "code",
   "execution_count": 9,
   "metadata": {},
   "outputs": [
    {
     "ename": "SyntaxError",
     "evalue": "invalid syntax (<ipython-input-9-5a4b7f832a75>, line 1)",
     "output_type": "error",
     "traceback": [
      "\u001b[1;36m  File \u001b[1;32m\"<ipython-input-9-5a4b7f832a75>\"\u001b[1;36m, line \u001b[1;32m1\u001b[0m\n\u001b[1;33m    show_travelspeed=welding.travelSpeed mm/sec.plot(kind='hist', bins=50);\u001b[0m\n\u001b[1;37m                                         ^\u001b[0m\n\u001b[1;31mSyntaxError\u001b[0m\u001b[1;31m:\u001b[0m invalid syntax\n"
     ]
    }
   ],
   "source": [
    "show_travelspeed=welding.travel Speed mm/sec.plot(kind='hist', bins=50);\n",
    "show_travelspeed.set_title('Distribution of travel speed');"
   ]
  },
  {
   "cell_type": "code",
   "execution_count": 11,
   "metadata": {},
   "outputs": [
    {
     "data": {
      "image/png": "[encoded data removed]",
      "text/plain": [
       "<Figure size 432x288 with 1 Axes>"
      ]
     },
     "metadata": {
      "needs_background": "light"
     },
     "output_type": "display_data"
    }
   ],
   "source": [
    "show_wirespeed=welding.wireFeedSpeed.plot(kind='hist', bins=50);\n",
    "show_wirespeed.set_title('Distribution of wire speed');"
   ]
  },
  {
   "cell_type": "code",
   "execution_count": null,
   "metadata": {},
   "outputs": [],
   "source": []
  }
 ],
 "metadata": {
  "kernelspec": {
   "display_name": "Python 3",
   "language": "python",
   "name": "python3"
  },
  "language_info": {
   "codemirror_mode": {
    "name": "ipython",
    "version": 3
   },
   "file_extension": ".py",
   "mimetype": "text/x-python",
   "name": "python",
   "nbconvert_exporter": "python",
   "pygments_lexer": "ipython3",
   "version": "3.8.5"
  }
 },
 "nbformat": 4,
 "nbformat_minor": 4
}
